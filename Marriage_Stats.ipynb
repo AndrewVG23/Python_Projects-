{
 "cells": [
  {
   "cell_type": "code",
   "execution_count": 6,
   "metadata": {},
   "outputs": [
    {
     "data": {
      "text/plain": [
       "Index(['Unnamed: 0', 'Marriage rates by State: 1990, 1995, and 1999-2015',\n",
       "       'Unnamed: 1', 'Unnamed: 2', 'Unnamed: 3', 'Unnamed: 4', 'Unnamed: 5',\n",
       "       'Unnamed: 6', 'Unnamed: 7', 'Unnamed: 8', 'Unnamed: 9', 'Unnamed: 10',\n",
       "       'Unnamed: 11', 'Unnamed: 12', 'Unnamed: 13', 'Unnamed: 14',\n",
       "       'Unnamed: 15', 'Unnamed: 16', 'Unnamed: 17', 'Unnamed: 18',\n",
       "       'Unnamed: 19'],\n",
       "      dtype='object')"
      ]
     },
     "execution_count": 6,
     "metadata": {},
     "output_type": "execute_result"
    }
   ],
   "source": [
    "#IMPORT necessary libraries\n",
    "#     \n"
    "#     \n"
    "%matplotlib inline\n",
    "import pandas as pd\n",
    "import matplotlib.pyplot as plt\n",
    "import numpy as np\n",
    "import folium\n",
    "\n",
    "#Data was sourced from www.cdc.gov/nchs/data_access/ \n",
    "#     \n"
    "#     \n"
    "data_xls = pd.read_excel('State_Marriage_Rates_90_95_99-15.xlsx', 'Sheet1', index_col=None)\n",
    "data_xls.to_csv('marriage.csv', encoding='utf-8')\n",
    "\n",
    "data = pd.read_csv('marriage.csv' , sep=',')\n",
    "\n",
    "data = data.drop(data.index[[0]])\n",
    "\n",
    "data.head(10)\n",
    "\n",
    "data.columns"
   ]
  },
  {
   "cell_type": "code",
   "execution_count": 137,
   "metadata": {
    "collapsed": true
   },
   "outputs": [],
   "source": [
    "#save data to variables\n"
    "#     \n"
    "#     \n"
    "years = data.iloc[1]\n",
    "alabama_rates = data.iloc[2]\n",
    "alaska_rates = data.iloc[3]\n",
    "arizona_rates = data.iloc[4]\n",
    "arkansas_rates = data.iloc[5]\n",
    "california_rates = data.iloc[6]\n",
    "colorado_rates = data.iloc[7]\n",
    "connecticut_rates = data.iloc[8]\n",
    "\n",
    "\n",
    "#years.shape\n",
    "#alabama_rates.shape\n",
    "\n",
    "years = years[2:]\n",
    "alabama_rates = alabama_rates[2:]\n",
    "alaska_rates = alaska_rates[2:]\n",
    "arizona_rates = arizona_rates[2:]\n",
    "arkansas_rates = arkansas_rates[2:]\n",
    "california_rates = california_rates[2:]\n",
    "colorado_rates = colorado_rates[2:]\n",
    "connecticut_rates = connecticut_rates[2:]"
   ]
  },
  {
   "cell_type": "code",
   "execution_count": 138,
   "metadata": {
    "scrolled": true
   },
   "outputs": [
    {
     "data": {
      "image/png": "iVBORw0KGgoAAAANSUhEUgAAAYIAAAEWCAYAAABrDZDcAAAABHNCSVQICAgIfAhkiAAAAAlwSFlz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\nrkJggg==\n",
      "text/plain": [
       "<matplotlib.figure.Figure at 0x115024e10>"
      ]
     },
     "metadata": {},
     "output_type": "display_data"
    }
   ],
   "source": [
    
    "#Plot marriage rates over the years for several states\n"
    "#     \n"
    "#     \n"
    
    "fig,axis = plt.subplots()\n",
    "\n",
    "axis.set(title='Marriage Rate in Alabama, Alaska',\n",
    "         ylabel='Marriages per 1000 residents',\n",
    "         xlabel='Year',\n",
    "         ylim=[0,20])\n",
    "\n",
    "X = years\n",
    "AL = alabama_rates\n",
    "AK = alaska_rates\n",
    "AZ = arizona_rates\n",
    "AR = arkansas_rates\n",
    "CA = california_rates\n",
    "\n",
    "\n",
    "axis.plot(X, AL, color='red', label='Alabama', linewidth=7)\n",
    "axis.plot(X, AK, color='blue', label='Alaska', linewidth=7)\n",
    "axis.plot(X, AZ, color='green', label='Arizona', linewidth=7)\n",
    "axis.plot(X, AR, color='purple', label='Arkansas', linewidth=7)\n",
    "axis.plot(X, CA, color='orange', label='California', linewidth=7)\n",
    "\n",
    "axis.legend(loc='upper right', fontsize=10)\n",
    "#plt.figure(figsize=(10,8))\n",
    "plt.rcParams[\"figure.figsize\"] = (50,50)\n",
    "plt.rcParams.update({'font.size': 20})\n",
    "plt.show()"
   ]
  },
  {
   "cell_type": "code",
   "execution_count": 108,
   "metadata": {},
   "outputs": [
    {
     "data": {
      "text/plain": [
       "Unnamed: 1               7.34166\n",
       "Unnamed: 2     7.658952363507505\n",
       "Unnamed: 3     7.549883465085865\n",
       "Unnamed: 4                   7.6\n",
       "Unnamed: 5                   7.8\n",
       "Unnamed: 6                   7.6\n",
       "Unnamed: 7                     8\n",
       "Unnamed: 8                   8.6\n",
       "Unnamed: 9                     9\n",
       "Unnamed: 10                  9.3\n",
       "Unnamed: 11                  9.3\n",
       "Unnamed: 12                  9.3\n",
       "Unnamed: 13                  9.3\n",
       "Unnamed: 14                  9.5\n",
       "Unnamed: 15                   10\n",
       "Unnamed: 16                   10\n",
       "Unnamed: 17                  9.9\n",
       "Unnamed: 18                 10.6\n",
       "Unnamed: 19                 10.7\n",
       "Name: 53, dtype: object"
      ]
     },
     "execution_count": 108,
     "metadata": {},
     "output_type": "execute_result"
    }
   ],
   "source": [
    "data.iloc[52][2:]"
   ]
  },
  {
   "cell_type": "code",
   "execution_count": 119,
   "metadata": {
    "collapsed": true
   },
   "outputs": [],
   "source": [
    "#np.ptp(\n",
    "arr = np.array([0])\n",
    "\n",
    "for j in range(2,53):\n",
    "  arr = np.append(arr, data.iloc[j][2:])\n",
    "\n",
    "#    for i in range(0,19):\n",
    "#        arr[i] = float(arr[i])\n",
    "#        print(arr.ptp())\n",
    "\n",
    "\n",
    "\n",
    "    \n",
    "\n",
    "\n",
    "#alabama_rates.dtype"
   ]
  },
  {
   "cell_type": "code",
   "execution_count": 135,
   "metadata": {},
   "outputs": [
    {
     "data": {
      "text/plain": [
       "(970,)"
      ]
     },
     "execution_count": 135,
     "metadata": {},
     "output_type": "execute_result"
    }
   ],
   "source": [
    "arr.shape"
   ]
  },
  {
   "cell_type": "code",
   "execution_count": null,
   "metadata": {
    "collapsed": true
   },
   "outputs": [],
   "source": []
  }
 ],
 "metadata": {
  "kernelspec": {
   "display_name": "Python 3",
   "language": "python",
   "name": "python3"
  },
  "language_info": {
   "codemirror_mode": {
    "name": "ipython",
    "version": 3
   },
   "file_extension": ".py",
   "mimetype": "text/x-python",
   "name": "python",
   "nbconvert_exporter": "python",
   "pygments_lexer": "ipython3",
   "version": "3.6.1"
  }
 },
 "nbformat": 4,
 "nbformat_minor": 2
}
