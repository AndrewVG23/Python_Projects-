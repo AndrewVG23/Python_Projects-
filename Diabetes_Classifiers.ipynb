{
 "cells": [
  {
   "cell_type": "code",
   "execution_count": 18,
   "metadata": {
    "collapsed": true
   },
   "outputs": [],
   "source": [
    "import re\n",
    "import numpy as np\n",
    "import pandas as pd\n",
    "import sklearn"
   ]
  },
  {
   "cell_type": "code",
   "execution_count": 3,
   "metadata": {
    "collapsed": true
   },
   "outputs": [],
   "source": [
    "from sklearn.metrics import accuracy_score\n",
    "from sklearn.model_selection import train_test_split\n",
    "from sklearn.tree import DecisionTreeClassifier\n",
    "from sklearn import svm\n",
    "from sklearn.naive_bayes import GaussianNB"
   ]
  },
  {
   "cell_type": "code",
   "execution_count": 4,
   "metadata": {
    "collapsed": true
   },
   "outputs": [],
   "source": [
    "#open up the data (which is in .txt format)\n",
    "\n",
    "with open(\"pima-indians-diabetes.data.txt\") as script:\n",
    "    data = script.read()"
   ]
  },
  {
   "cell_type": "code",
   "execution_count": 5,
   "metadata": {
    "collapsed": true
   },
   "outputs": [],
   "source": [
    "#split text into strings corresponding to each instance\n",
    "\n",
    "data = re.split(\"\\n|,\",data)"
   ]
  },
  {
   "cell_type": "code",
   "execution_count": 6,
   "metadata": {},
   "outputs": [],
   "source": [
    "#construct a random data frame to be filled in later\n",
    "\n",
    "df = pd.DataFrame(np.random.randn(769, 9),columns =['# times pregnant','Glucose after 2 hours','Blood Pressure','Tricept skin fold thickness','2hr serum insulin','BMI','Diabetes pedigree function','Age','class'])\n"
   ]
  },
  {
   "cell_type": "code",
   "execution_count": 7,
   "metadata": {
    "collapsed": true
   },
   "outputs": [],
   "source": [
    "#convert from list of strings to data frame\n",
    "\n",
    "for j in range(0,768):\n",
    "    for i in range(0,9):\n",
    "        df.iloc[j,i] = data[i+9*j]"
   ]
  },
  {
   "cell_type": "code",
   "execution_count": 8,
   "metadata": {
    "collapsed": true
   },
   "outputs": [],
   "source": [
    "#drop last row (to clean up)\n",
    "df = df[:-1]"
   ]
  },
  {
   "cell_type": "code",
   "execution_count": 9,
   "metadata": {
    "collapsed": true
   },
   "outputs": [],
   "source": [
    "y = df[['class']].copy()\n",
    "\n",
    "x = df[['# times pregnant','Glucose after 2 hours','Blood Pressure','Tricept skin fold thickness','2hr serum insulin','BMI','Diabetes pedigree function','Age']].copy()\n"
   ]
  },
  {
   "cell_type": "code",
   "execution_count": 11,
   "metadata": {
    "collapsed": true
   },
   "outputs": [],
   "source": [
    "#Accuracy seems to be maximized with test_size=0.30\n",
    "\n",
    "x_train, x_test, y_train, y_test = train_test_split(x, y, test_size=0.30, random_state=127)"
   ]
  },
  {
   "cell_type": "code",
   "execution_count": 12,
   "metadata": {},
   "outputs": [
    {
     "data": {
      "text/plain": [
       "DecisionTreeClassifier(class_weight=None, criterion='gini', max_depth=None,\n",
       "            max_features=None, max_leaf_nodes=10, min_impurity_split=1e-07,\n",
       "            min_samples_leaf=1, min_samples_split=2,\n",
       "            min_weight_fraction_leaf=0.0, presort=False, random_state=0,\n",
       "            splitter='best')"
      ]
     },
     "execution_count": 12,
     "metadata": {},
     "output_type": "execute_result"
    }
   ],
   "source": [
    "diabetes_classifier = DecisionTreeClassifier(max_leaf_nodes=10, random_state=0)\n",
    "diabetes_classifier.fit(x_train, y_train)"
   ]
  },
  {
   "cell_type": "code",
   "execution_count": 13,
   "metadata": {
    "collapsed": true
   },
   "outputs": [],
   "source": [
    "pred = diabetes_classifier.predict(x_test)"
   ]
  },
  {
   "cell_type": "code",
   "execution_count": 14,
   "metadata": {},
   "outputs": [
    {
     "data": {
      "text/plain": [
       "0.76623376623376627"
      ]
     },
     "execution_count": 14,
     "metadata": {},
     "output_type": "execute_result"
    }
   ],
   "source": [
    "accuracy_score(y_true = y_test, y_pred = pred)"
   ]
  },
  {
   "cell_type": "code",
   "execution_count": 15,
   "metadata": {
    "collapsed": true
   },
   "outputs": [],
   "source": [
    "##Support Vector Machine Classifier\n",
    "\n",
    "\n",
    "\n",
    "#Convert from dataframe to lists of floats\n",
    "\n",
    "y_array = []\n",
    "x_array = []\n",
    "y_test_array = []\n",
    "x_test_array = []\n",
    "\n",
    "\n",
    "for index in range(0,y_train.shape[0]):\n",
    "    y_array.extend(list(map(int,y_train.iloc[index,:])))\n",
    "for index in range(0,x_train.shape[0]):\n",
    "    x_array.append(list(map(float,x_train.iloc[index,:])))\n",
    "\n",
    "    \n",
    "for index in range(0,y_test.shape[0]):\n",
    "    y_test_array.extend(list(map(int,y_test.iloc[index,:])))\n",
    "for index in range(0,x_test.shape[0]):\n",
    "    x_test_array.append(list(map(float,x_test.iloc[index,:])))\n",
    "\n",
    "\n",
    "#print(x_test)\n"
   ]
  },
  {
   "cell_type": "code",
   "execution_count": 16,
   "metadata": {},
   "outputs": [
    {
     "data": {
      "text/plain": [
       "SVC(C=1.0, cache_size=200, class_weight=None, coef0=0.0,\n",
       "  decision_function_shape=None, degree=3, gamma='auto', kernel='rbf',\n",
       "  max_iter=-1, probability=False, random_state=None, shrinking=True,\n",
       "  tol=0.001, verbose=False)"
      ]
     },
     "execution_count": 16,
     "metadata": {},
     "output_type": "execute_result"
    }
   ],
   "source": [
    "clf = svm.SVC()\n",
    "clf.fit(x_array, y_array)  "
   ]
  },
  {
   "cell_type": "code",
   "execution_count": 17,
   "metadata": {
    "collapsed": true
   },
   "outputs": [],
   "source": [
    "test_pred = []\n",
    "\n",
    "for index in range(0,x_test.shape[0]):\n",
    "    test_pred.extend(clf.predict(x_test_array[index:index+1]))\n",
    "    \n",
    "#test_pred"
   ]
  },
  {
   "cell_type": "code",
   "execution_count": 609,
   "metadata": {},
   "outputs": [
    {
     "name": "stdout",
     "output_type": "stream",
     "text": [
      "Accuracy: 76.19047619047619%\n"
     ]
    }
   ],
   "source": [
    "##Naive Bayes Classifier\n",
    "\n",
    "\n",
    "\n",
    "gnb = GaussianNB()\n",
    "pred = gnb.fit(x_array, y_array).predict(x_test_array)\n",
    "\n",
    "match = 0\n",
    "non_match = 0\n",
    "\n",
    "for index in range(0,len(y_test_array)):\n",
    "    if y_test_array[index] == pred[index]:\n",
    "        match += 1 \n",
    "    else:\n",
    "        non_match += 1\n",
    "        \n",
    "print(\"Accuracy: \" + str(match*100/(match+non_match)) + \"%\")\n"
   ]
  },
  {
   "cell_type": "code",
   "execution_count": null,
   "metadata": {
    "collapsed": true
   },
   "outputs": [],
   "source": []
  }
 ],
 "metadata": {
  "kernelspec": {
   "display_name": "Python 3",
   "language": "python",
   "name": "python3"
  },
  "language_info": {
   "codemirror_mode": {
    "name": "ipython",
    "version": 3
   },
   "file_extension": ".py",
   "mimetype": "text/x-python",
   "name": "python",
   "nbconvert_exporter": "python",
   "pygments_lexer": "ipython3",
   "version": "3.6.1"
  }
 },
 "nbformat": 4,
 "nbformat_minor": 2
}
