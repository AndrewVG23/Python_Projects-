{
 "cells": [
  {
   "cell_type": "code",
   "execution_count": 199,
   "metadata": {
    "collapsed": true
   },
   "outputs": [],
   "source": [
    "import pandas as pd \n",
    "from sklearn.tree import DecisionTreeRegressor\n",
    "from sklearn.linear_model import LinearRegression\n",
    "from sklearn.model_selection import train_test_split\n",
    "from sklearn.metrics import mean_squared_error\n",
    "from math import sqrt"
   ]
  },
  {
   "cell_type": "code",
   "execution_count": 207,
   "metadata": {
    "collapsed": true
   },
   "outputs": [],
   "source": [
    "#Importing sleep and productivity data for 2006-2013\n",
    "\n",
    "sleep_df = pd.read_csv(\"sleepavg.csv\")\n",
    "prod_df = pd.read_excel(\"SeriesReport-20170811154027_137537.xlsx\")"
   ]
  },
  {
   "cell_type": "code",
   "execution_count": 208,
   "metadata": {},
   "outputs": [],
   "source": [
    "#slice off top ten rows and organize table\n",
    "\n",
    "prod_df = prod_df.drop(prod_df.index[:10])\n",
    "prod_df = prod_df.drop(['Unnamed: 2','Unnamed: 3','Unnamed: 4','Unnamed: 5'],axis=1)\n",
    "prod_df.index = prod_df.iloc[:,0]\n",
    "prod_df = prod_df.drop(['Major Sector Multifactor Productivity'],axis=1)\n",
    "prod_df.columns = (['Productivity'])"
   ]
  },
  {
   "cell_type": "code",
   "execution_count": 209,
   "metadata": {},
   "outputs": [],
   "source": [
    "sleep_df = sleep_df.drop(['Series ID', 'Period','Label'], axis=1)"
   ]
  },
  {
   "cell_type": "code",
   "execution_count": 210,
   "metadata": {},
   "outputs": [],
   "source": [
    "prod_df['Avg. Sleep for Men (hours)'] = sleep_df.iloc[-11:,1]\n",
    "prod_df['Avg. Sleep for Women (hours)'] = sleep_df.iloc[3:14,1]\n",
    "\n",
    "\n",
    "for i in range(1,12):\n",
    "    prod_df.iloc[i,1] = sleep_df.iloc[-12+i,1]\n",
    "    prod_df.iloc[i,2] = sleep_df.iloc[2+i,1]"
   ]
  },
  {
   "cell_type": "code",
   "execution_count": 211,
   "metadata": {
    "collapsed": true
   },
   "outputs": [],
   "source": [
    "prod_df = prod_df.drop(prod_df.index[0])"
   ]
  },
  {
   "cell_type": "code",
   "execution_count": 212,
   "metadata": {},
   "outputs": [
    {
     "data": {
      "text/html": [
       "<div>\n",
       "<style>\n",
       "    .dataframe thead tr:only-child th {\n",
       "        text-align: right;\n",
       "    }\n",
       "\n",
       "    .dataframe thead th {\n",
       "        text-align: left;\n",
       "    }\n",
       "\n",
       "    .dataframe tbody tr th {\n",
       "        vertical-align: top;\n",
       "    }\n",
       "</style>\n",
       "<table border=\"1\" class=\"dataframe\">\n",
       "  <thead>\n",
       "    <tr style=\"text-align: right;\">\n",
       "      <th></th>\n",
       "      <th>Productivity</th>\n",
       "      <th>Avg. Sleep for Men (hours)</th>\n",
       "      <th>Avg. Sleep for Women (hours)</th>\n",
       "    </tr>\n",
       "    <tr>\n",
       "      <th>Major Sector Multifactor Productivity</th>\n",
       "      <th></th>\n",
       "      <th></th>\n",
       "      <th></th>\n",
       "    </tr>\n",
       "  </thead>\n",
       "  <tbody>\n",
       "    <tr>\n",
       "      <th>2006</th>\n",
       "      <td>101.006</td>\n",
       "      <td>8.69</td>\n",
       "      <td>8.56</td>\n",
       "    </tr>\n",
       "    <tr>\n",
       "      <th>2007</th>\n",
       "      <td>101.422</td>\n",
       "      <td>8.63</td>\n",
       "      <td>8.52</td>\n",
       "    </tr>\n",
       "    <tr>\n",
       "      <th>2008</th>\n",
       "      <td>100.233</td>\n",
       "      <td>8.64</td>\n",
       "      <td>8.56</td>\n",
       "    </tr>\n",
       "    <tr>\n",
       "      <th>2009</th>\n",
       "      <td>100</td>\n",
       "      <td>8.73</td>\n",
       "      <td>8.62</td>\n",
       "    </tr>\n",
       "    <tr>\n",
       "      <th>2010</th>\n",
       "      <td>102.886</td>\n",
       "      <td>8.76</td>\n",
       "      <td>8.56</td>\n",
       "    </tr>\n",
       "    <tr>\n",
       "      <th>2011</th>\n",
       "      <td>103.088</td>\n",
       "      <td>8.80</td>\n",
       "      <td>8.62</td>\n",
       "    </tr>\n",
       "    <tr>\n",
       "      <th>2012</th>\n",
       "      <td>103.749</td>\n",
       "      <td>8.86</td>\n",
       "      <td>8.60</td>\n",
       "    </tr>\n",
       "    <tr>\n",
       "      <th>2013</th>\n",
       "      <td>104.295</td>\n",
       "      <td>8.82</td>\n",
       "      <td>8.65</td>\n",
       "    </tr>\n",
       "    <tr>\n",
       "      <th>2014</th>\n",
       "      <td>104.931</td>\n",
       "      <td>8.90</td>\n",
       "      <td>8.69</td>\n",
       "    </tr>\n",
       "    <tr>\n",
       "      <th>2015</th>\n",
       "      <td>105.498</td>\n",
       "      <td>8.90</td>\n",
       "      <td>8.77</td>\n",
       "    </tr>\n",
       "    <tr>\n",
       "      <th>2016</th>\n",
       "      <td>105.419</td>\n",
       "      <td>8.88</td>\n",
       "      <td>8.69</td>\n",
       "    </tr>\n",
       "  </tbody>\n",
       "</table>\n",
       "</div>"
      ],
      "text/plain": [
       "                                      Productivity  \\\n",
       "Major Sector Multifactor Productivity                \n",
       "2006                                       101.006   \n",
       "2007                                       101.422   \n",
       "2008                                       100.233   \n",
       "2009                                           100   \n",
       "2010                                       102.886   \n",
       "2011                                       103.088   \n",
       "2012                                       103.749   \n",
       "2013                                       104.295   \n",
       "2014                                       104.931   \n",
       "2015                                       105.498   \n",
       "2016                                       105.419   \n",
       "\n",
       "                                       Avg. Sleep for Men (hours)  \\\n",
       "Major Sector Multifactor Productivity                               \n",
       "2006                                                         8.69   \n",
       "2007                                                         8.63   \n",
       "2008                                                         8.64   \n",
       "2009                                                         8.73   \n",
       "2010                                                         8.76   \n",
       "2011                                                         8.80   \n",
       "2012                                                         8.86   \n",
       "2013                                                         8.82   \n",
       "2014                                                         8.90   \n",
       "2015                                                         8.90   \n",
       "2016                                                         8.88   \n",
       "\n",
       "                                       Avg. Sleep for Women (hours)  \n",
       "Major Sector Multifactor Productivity                                \n",
       "2006                                                           8.56  \n",
       "2007                                                           8.52  \n",
       "2008                                                           8.56  \n",
       "2009                                                           8.62  \n",
       "2010                                                           8.56  \n",
       "2011                                                           8.62  \n",
       "2012                                                           8.60  \n",
       "2013                                                           8.65  \n",
       "2014                                                           8.69  \n",
       "2015                                                           8.77  \n",
       "2016                                                           8.69  "
      ]
     },
     "execution_count": 212,
     "metadata": {},
     "output_type": "execute_result"
    }
   ],
   "source": [
    "prod_df"
   ]
  },
  {
   "cell_type": "code",
   "execution_count": 213,
   "metadata": {},
   "outputs": [],
   "source": [
    "features = ['Avg. Sleep for Men (hours)', 'Avg. Sleep for Women (hours)']\n",
    "\n",
    "target = ['Productivity']"
   ]
  },
  {
   "cell_type": "code",
   "execution_count": 214,
   "metadata": {},
   "outputs": [],
   "source": [
    "x = prod_df[features]\n",
    "\n",
    "y = prod_df[target]"
   ]
  },
  {
   "cell_type": "code",
   "execution_count": 219,
   "metadata": {},
   "outputs": [],
   "source": [
    "#x"
   ]
  },
  {
   "cell_type": "code",
   "execution_count": 220,
   "metadata": {},
   "outputs": [
    {
     "data": {
      "text/plain": [
       "11"
      ]
     },
     "execution_count": 220,
     "metadata": {},
     "output_type": "execute_result"
    }
   ],
   "source": [
    "len(y)"
   ]
  },
  {
   "cell_type": "code",
   "execution_count": 221,
   "metadata": {},
   "outputs": [],
   "source": [
    "x_train, x_test, y_train, y_test = train_test_split(x, y, test_size=0.20, random_state=324)\n"
   ]
  },
  {
   "cell_type": "code",
   "execution_count": 223,
   "metadata": {},
   "outputs": [],
   "source": [
    "#y_train"
   ]
  },
  {
   "cell_type": "code",
   "execution_count": 230,
   "metadata": {},
   "outputs": [
    {
     "data": {
      "text/plain": [
       "LinearRegression(copy_X=True, fit_intercept=True, n_jobs=1, normalize=False)"
      ]
     },
     "execution_count": 230,
     "metadata": {},
     "output_type": "execute_result"
    }
   ],
   "source": [
    "reg = LinearRegression()\n",
    "reg.fit(x_train, y_train)"
   ]
  },
  {
   "cell_type": "code",
   "execution_count": 226,
   "metadata": {},
   "outputs": [],
   "source": [
    "y_prediction = reg.predict(x_test)\n",
    "y_prediction2 = reg.predict(x_train)\n",
    "#y_prediction"
   ]
  },
  {
   "cell_type": "code",
   "execution_count": 227,
   "metadata": {},
   "outputs": [],
   "source": [
    "RMSE = sqrt(mean_squared_error(y_true = y_test, y_pred = y_prediction))\n",
    "RMSE2 = sqrt(mean_squared_error(y_true = y_train, y_pred = y_prediction2))"
   ]
  },
  {
   "cell_type": "code",
   "execution_count": 228,
   "metadata": {},
   "outputs": [
    {
     "name": "stdout",
     "output_type": "stream",
     "text": [
      "1.4048733037647345\n"
     ]
    }
   ],
   "source": [
    "print(RMSE)"
   ]
  },
  {
   "cell_type": "code",
   "execution_count": 229,
   "metadata": {},
   "outputs": [
    {
     "name": "stdout",
     "output_type": "stream",
     "text": [
      "0.7159086149473742\n"
     ]
    }
   ],
   "source": [
    "print(RMSE2)"
   ]
  },
  {
   "cell_type": "markdown",
   "metadata": {},
   "source": [
    "### It appears that the data is overfit. The RMSE is much lower for the training data than for the testing data"
   ]
  },
  {
   "cell_type": "code",
   "execution_count": 231,
   "metadata": {},
   "outputs": [
    {
     "data": {
      "text/plain": [
       "DecisionTreeRegressor(criterion='mse', max_depth=20, max_features=None,\n",
       "           max_leaf_nodes=None, min_impurity_split=1e-07,\n",
       "           min_samples_leaf=1, min_samples_split=2,\n",
       "           min_weight_fraction_leaf=0.0, presort=False, random_state=None,\n",
       "           splitter='best')"
      ]
     },
     "execution_count": 231,
     "metadata": {},
     "output_type": "execute_result"
    }
   ],
   "source": [
    "decTreeReg = DecisionTreeRegressor(max_depth=20)\n",
    "decTreeReg.fit(x_train, y_train)"
   ]
  },
  {
   "cell_type": "code",
   "execution_count": 240,
   "metadata": {},
   "outputs": [],
   "source": [
    "y_pred = decTreeReg.predict(x_test)\n",
    "y_pred2 = decTreeReg.predict(x_train)"
   ]
  },
  {
   "cell_type": "code",
   "execution_count": 242,
   "metadata": {},
   "outputs": [
    {
     "name": "stdout",
     "output_type": "stream",
     "text": [
      "0.579864639377154\n",
      "0.0\n"
     ]
    }
   ],
   "source": [
    "RMSE3 = sqrt(mean_squared_error(y_true = y_test, y_pred = y_pred))\n",
    "RMSE4 = sqrt(mean_squared_error(y_true = y_train, y_pred = y_pred2))\n",
    "\n",
    "print(RMSE3)\n",
    "print(RMSE4)"
   ]
  },
  {
   "cell_type": "markdown",
   "metadata": {},
   "source": [
    "### The decision tree regression performed better than the linear regression"
   ]
  },
  {
   "cell_type": "code",
   "execution_count": null,
   "metadata": {
    "collapsed": true
   },
   "outputs": [],
   "source": []
  }
 ],
 "metadata": {
  "kernelspec": {
   "display_name": "Python 3",
   "language": "python",
   "name": "python3"
  },
  "language_info": {
   "codemirror_mode": {
    "name": "ipython",
    "version": 3
   },
   "file_extension": ".py",
   "mimetype": "text/x-python",
   "name": "python",
   "nbconvert_exporter": "python",
   "pygments_lexer": "ipython3",
   "version": "3.6.1"
  }
 },
 "nbformat": 4,
 "nbformat_minor": 2
}
