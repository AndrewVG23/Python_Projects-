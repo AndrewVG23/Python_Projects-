{
 "cells": [
  {
   "cell_type": "code",
   "execution_count": 1,
   "metadata": {
    "collapsed": true
   },
   "outputs": [],
   "source": [
    "import urllib.request\n",
    "import nltk   \n",
    "import re\n",
    "from urllib.request import urlopen\n",
    "from bs4 import BeautifulSoup"
   ]
  },
  {
   "cell_type": "code",
   "execution_count": 2,
   "metadata": {
    "collapsed": true
   },
   "outputs": [],
   "source": [
    "from gensim import corpora\n",
    "from collections import Counter\n",
    "import os\n",
    "import locale\n",
    "\n",
    "import string\n",
    "from collections import Counter"
   ]
  },
  {
   "cell_type": "code",
   "execution_count": 3,
   "metadata": {
    "collapsed": true
   },
   "outputs": [],
   "source": [
    "from nltk.corpus import gutenberg\n"
   ]
  },
  {
   "cell_type": "code",
   "execution_count": 4,
   "metadata": {
    "collapsed": true
   },
   "outputs": [],
   "source": [
    "%matplotlib inline\n",
    "import matplotlib.pyplot as plt"
   ]
  },
  {
   "cell_type": "code",
   "execution_count": 5,
   "metadata": {},
   "outputs": [
    {
     "data": {
      "text/plain": [
       "'en_US'"
      ]
     },
     "execution_count": 5,
     "metadata": {},
     "output_type": "execute_result"
    }
   ],
   "source": [
    "locale.setlocale(locale.LC_ALL, 'en_US')"
   ]
  },
  {
   "cell_type": "code",
   "execution_count": 6,
   "metadata": {},
   "outputs": [
    {
     "name": "stdout",
     "output_type": "stream",
     "text": [
      "\n",
      "****************************************\n",
      "You have imported 52,762,387 characters.\n",
      "87.814% of your articles loaded.\n",
      "****************************************\n"
     ]
    }
   ],
   "source": [
    "#Loading in the newspaper files...\n",
    "    # i helps iterate through the page number\n",
    "    # j helps with iterating the day (ie. Jan 21, Jan 22)\n",
    "    # k helps with the month number\n",
    "    # l is for the year\n",
    "\n",
    "text = ''\n",
    "\n",
    "succ = 0\n",
    "fail = 0\n",
    "\n",
    "#for l in range(870,924):\n",
    "for k in range(1,4):\n",
    "    if k<10: k = '0' + str(k)\n",
    "    for j in range(1,32):\n",
    "        if j<10: j = '0' + str(j)\n",
    "        for i in range(1,13):\n",
    "            i, j, = str(i), str(j)\n",
    "            url = \"http://chroniclingamerica.loc.gov/lccn/sn83030313/1870-\"+ k +\"-\"+ j +\"/ed-1/seq-\" + i +\"/ocr.txt\"\n",
    "            try:\n",
    "                html = urlopen(url).read()\n",
    "                soup = BeautifulSoup(html, \"lxml\")\n",
    "                text += str(soup)\n",
    "                succ += 1\n",
    "            except: \n",
    "                fail += 1\n",
    "\n",
    "\n",
    "#print(text)\n",
    "\n",
    "print(\"\\n\"+\"*\"*40+\"\\n\"+\"You have imported \" + str(locale.format(\"%d\", len(text), grouping=True)) + \" characters.\" +\"\\n\"+ str(\"{0:.3f}\".format((succ*100)/(fail + succ))) + \"% of your articles loaded.\"+\"\\n\"+\"*\"*40)"
   ]
  },
  {
   "cell_type": "code",
   "execution_count": 9,
   "metadata": {},
   "outputs": [
    {
     "name": "stderr",
     "output_type": "stream",
     "text": [
      "IOPub data rate exceeded.\n",
      "The notebook server will temporarily stop sending output\n",
      "to the client in order to avoid crashing it.\n",
      "To change this limit, set the config variable\n",
      "`--NotebookApp.iopub_data_rate_limit`.\n"
     ]
    }
   ],
   "source": [
    "cleaner_text = re.sub('<.+?>', '', text)\n",
    "\n",
    "cleaner_text = nltk.word_tokenize(cleaner_text)\n",
    "\n",
    "print(cleaner_text)"
   ]
  },
  {
   "cell_type": "code",
   "execution_count": 13,
   "metadata": {},
   "outputs": [
    {
     "name": "stdout",
     "output_type": "stream",
     "text": [
      "There are 9,166,756 words in your collection.\n"
     ]
    }
   ],
   "source": [
    "print(\"There are \" + locale.format(\"%d\", len(cleaner_text), grouping=True) + \" words in your collection.\")"
   ]
  },
  {
   "cell_type": "code",
   "execution_count": 14,
   "metadata": {},
   "outputs": [
    {
     "name": "stdout",
     "output_type": "stream",
     "text": [
      "[nltk_data] Downloading package punkt to\n",
      "[nltk_data]     /Users/andrewvangilder/nltk_data...\n",
      "[nltk_data]   Package punkt is already up-to-date!\n",
      "[nltk_data] Downloading package stopwords to\n",
      "[nltk_data]     /Users/andrewvangilder/nltk_data...\n",
      "[nltk_data]   Package stopwords is already up-to-date!\n"
     ]
    },
    {
     "data": {
      "text/plain": [
       "True"
      ]
     },
     "execution_count": 14,
     "metadata": {},
     "output_type": "execute_result"
    }
   ],
   "source": [
    "nltk.download(\"punkt\")\n",
    "nltk.download(\"stopwords\")"
   ]
  },
  {
   "cell_type": "code",
   "execution_count": 15,
   "metadata": {
    "collapsed": true
   },
   "outputs": [],
   "source": [
    "#A common source of noise is a number of characters followed by a period (ie. ee. or r.)\n",
    "\n",
    "cleaner_text = [re.sub('\\w*(?=\\.)','', word) for word in cleaner_text]"
   ]
  },
  {
   "cell_type": "code",
   "execution_count": 16,
   "metadata": {
    "collapsed": true
   },
   "outputs": [],
   "source": [
    "words_to_clean = list(string.punctuation) + list(string.digits) + list(string.ascii_lowercase) + nltk.corpus.stopwords.words(\"english\") + ['...','gt','ii','ou','j.','a.','m.','oi',\"'s\",'aa',\"''\",'la','l','lu','lor','tho','ihe','1', 'tbe','ith','ol','ot','tue','vvnonislu', 'ulv','tne', 'aud', '``']\n"
   ]
  },
  {
   "cell_type": "code",
   "execution_count": 17,
   "metadata": {
    "collapsed": true
   },
   "outputs": [],
   "source": [
    "caesar = gutenberg.words('shakespeare-caesar.txt')\n",
    "\n",
    "#caesar"
   ]
  },
  {
   "cell_type": "code",
   "execution_count": 18,
   "metadata": {
    "collapsed": true
   },
   "outputs": [],
   "source": [
    "emma = gutenberg.words('austen-emma.txt')\n",
    "\n",
    "#emma[20:30]"
   ]
  },
  {
   "cell_type": "code",
   "execution_count": 19,
   "metadata": {
    "collapsed": true
   },
   "outputs": [],
   "source": [
    "texts = [word.lower() for word in cleaner_text if word.lower() not in words_to_clean]\n",
    "\n",
    "#more_clean_text = [word.lower() for word in texts if word.lower() in caesar[:3000]]\n",
    "\n",
    "#texts"
   ]
  },
  {
   "cell_type": "code",
   "execution_count": 20,
   "metadata": {},
   "outputs": [
    {
     "data": {
      "text/plain": [
       "[('street', 27256),\n",
       " ('new', 20459),\n",
       " ('city', 13875),\n",
       " ('one', 13456),\n",
       " ('lt', 12523),\n",
       " ('two', 12269),\n",
       " ('house', 11076),\n",
       " ('york', 10078),\n",
       " ('good', 9671),\n",
       " ('would', 8963)]"
      ]
     },
     "execution_count": 20,
     "metadata": {},
     "output_type": "execute_result"
    }
   ],
   "source": [
    "most_common = Counter(texts).most_common()[:10]\n",
    "most_common"
   ]
  },
  {
   "cell_type": "code",
   "execution_count": 21,
   "metadata": {
    "collapsed": true
   },
   "outputs": [],
   "source": [
    "dictionary = dict(Counter(texts))"
   ]
  },
  {
   "cell_type": "code",
   "execution_count": 55,
   "metadata": {
    "collapsed": true
   },
   "outputs": [],
   "source": [
    "wordlist = ['street','thing']\n",
    "s = []"
   ]
  },
  {
   "cell_type": "code",
   "execution_count": 59,
   "metadata": {},
   "outputs": [],
   "source": [
    "#The start of some comparative text analysis\n",
    "\n",
    "for word in emma:\n",
    "        if word in dictionary:\n",
    "            if dictionary[word] > 4000:\n",
    "                if word not in s:\n",
    "                    s.append(word)\n",
    "            \n",
    "#print(s)"
   ]
  },
  {
   "cell_type": "code",
   "execution_count": 60,
   "metadata": {},
   "outputs": [],
   "source": [
    "sorted_word_counts = sorted(list(Counter(texts).values()), reverse=True)"
   ]
  },
  {
   "cell_type": "code",
   "execution_count": 23,
   "metadata": {},
   "outputs": [
    {
     "data": {
      "text/plain": [
       "<matplotlib.text.Text at 0x15b6ba780>"
      ]
     },
     "execution_count": 23,
     "metadata": {},
     "output_type": "execute_result"
    },
    {
     "data": {
      "image/png": "[encoded data removed]",
      "text/plain": [
       "<matplotlib.figure.Figure at 0x155c13c88>"
      ]
     },
     "metadata": {},
     "output_type": "display_data"
    }
   ],
   "source": [
    "plt.loglog(sorted_word_counts)\n",
    "plt.ylabel(\"Frequency\")\n",
    "plt.xlabel(\"Word Rank\")"
   ]
  },
  {
   "cell_type": "code",
   "execution_count": null,
   "metadata": {
    "collapsed": true
   },
   "outputs": [],
   "source": []
  }
 ],
 "metadata": {
  "kernelspec": {
   "display_name": "Python 3",
   "language": "python",
   "name": "python3"
  },
  "language_info": {
   "codemirror_mode": {
    "name": "ipython",
    "version": 3
   },
   "file_extension": ".py",
   "mimetype": "text/x-python",
   "name": "python",
   "nbconvert_exporter": "python",
   "pygments_lexer": "ipython3",
   "version": "3.6.1"
  }
 },
 "nbformat": 4,
 "nbformat_minor": 2
}
