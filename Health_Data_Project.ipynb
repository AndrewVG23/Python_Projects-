{
 "cells": [
  {
   "cell_type": "code",
   "execution_count": 1,
   "metadata": {
    "collapsed": true
   },
   "outputs": [],
   "source": [
    "from sas7bdat import SAS7BDAT\n",
    "import pandas as pd\n",
    "import numpy as np\n",
    "import random\n",
    "import matplotlib.pyplot as plt\n",
    "import folium"
   ]
  },
  {
   "cell_type": "code",
   "execution_count": 2,
   "metadata": {
    "collapsed": true
   },
   "outputs": [],
   "source": [
    "#with SAS7BDAT('Desktop/HealthDataProject/data1.sas7bdat') as f:\n",
    "#    df = f.to_data_frame()"
   ]
  },
  {
   "cell_type": "code",
   "execution_count": 3,
   "metadata": {
    "scrolled": true
   },
   "outputs": [
    {
     "name": "stdout",
     "output_type": "stream",
     "text": [
      "\u001b[31mdesktop/HealthDataProject/familyxx.csv\u001b[m\u001b[m\r\n"
     ]
    }
   ],
   "source": [
    "!ls desktop/HealthDataProject/familyxx.csv"
   ]
  },
  {
   "cell_type": "markdown",
   "metadata": {},
   "source": [
    "\n",
    "\n",
    "\n",
    "\n",
    "data and documentation located at: https://www.cdc.gov/nchs/nhis/nhis_2016_data_release.htm\n",
    "\n",
    "\n",
    "\n"
   ]
  },
  {
   "cell_type": "code",
   "execution_count": 4,
   "metadata": {
    "scrolled": true
   },
   "outputs": [
    {
     "data": {
      "text/html": [
       "<div>\n",
       "<style>\n",
       "    .dataframe thead tr:only-child th {\n",
       "        text-align: right;\n",
       "    }\n",
       "\n",
       "    .dataframe thead th {\n",
       "        text-align: left;\n",
       "    }\n",
       "\n",
       "    .dataframe tbody tr th {\n",
       "        vertical-align: top;\n",
       "    }\n",
       "</style>\n",
       "<table border=\"1\" class=\"dataframe\">\n",
       "  <thead>\n",
       "    <tr style=\"text-align: right;\">\n",
       "      <th></th>\n",
       "      <th>FINT_Y_P</th>\n",
       "      <th>FINT_M_P</th>\n",
       "      <th>FMX</th>\n",
       "      <th>RECTYPE</th>\n",
       "      <th>SRVY_YR</th>\n",
       "      <th>HHX</th>\n",
       "      <th>FM_SIZE</th>\n",
       "      <th>FM_STRCP</th>\n",
       "      <th>FM_TYPE</th>\n",
       "      <th>FM_STRP</th>\n",
       "      <th>...</th>\n",
       "      <th>COVCONF</th>\n",
       "      <th>FHICOST</th>\n",
       "      <th>FMEDBILL</th>\n",
       "      <th>FMEDBPAY</th>\n",
       "      <th>FMEDBNOP</th>\n",
       "      <th>FSAF</th>\n",
       "      <th>FHICOVCT</th>\n",
       "      <th>FHICOVYN</th>\n",
       "      <th>FPRCOOH</th>\n",
       "      <th>FHIEBCCT</th>\n",
       "    </tr>\n",
       "  </thead>\n",
       "  <tbody>\n",
       "    <tr>\n",
       "      <th>0</th>\n",
       "      <td>2016</td>\n",
       "      <td>1</td>\n",
       "      <td>1</td>\n",
       "      <td>60</td>\n",
       "      <td>2016</td>\n",
       "      <td>1</td>\n",
       "      <td>2</td>\n",
       "      <td>22</td>\n",
       "      <td>2</td>\n",
       "      <td>22</td>\n",
       "      <td>...</td>\n",
       "      <td>3.0</td>\n",
       "      <td>1</td>\n",
       "      <td>2</td>\n",
       "      <td>2</td>\n",
       "      <td>NaN</td>\n",
       "      <td>2</td>\n",
       "      <td>2</td>\n",
       "      <td>1</td>\n",
       "      <td>2.0</td>\n",
       "      <td>2.0</td>\n",
       "    </tr>\n",
       "    <tr>\n",
       "      <th>1</th>\n",
       "      <td>2016</td>\n",
       "      <td>1</td>\n",
       "      <td>2</td>\n",
       "      <td>60</td>\n",
       "      <td>2016</td>\n",
       "      <td>1</td>\n",
       "      <td>1</td>\n",
       "      <td>12</td>\n",
       "      <td>1</td>\n",
       "      <td>12</td>\n",
       "      <td>...</td>\n",
       "      <td>2.0</td>\n",
       "      <td>1</td>\n",
       "      <td>2</td>\n",
       "      <td>2</td>\n",
       "      <td>NaN</td>\n",
       "      <td>2</td>\n",
       "      <td>1</td>\n",
       "      <td>1</td>\n",
       "      <td>2.0</td>\n",
       "      <td>1.0</td>\n",
       "    </tr>\n",
       "    <tr>\n",
       "      <th>2</th>\n",
       "      <td>2016</td>\n",
       "      <td>3</td>\n",
       "      <td>1</td>\n",
       "      <td>60</td>\n",
       "      <td>2016</td>\n",
       "      <td>2</td>\n",
       "      <td>1</td>\n",
       "      <td>11</td>\n",
       "      <td>1</td>\n",
       "      <td>11</td>\n",
       "      <td>...</td>\n",
       "      <td>NaN</td>\n",
       "      <td>1</td>\n",
       "      <td>2</td>\n",
       "      <td>2</td>\n",
       "      <td>NaN</td>\n",
       "      <td>2</td>\n",
       "      <td>1</td>\n",
       "      <td>1</td>\n",
       "      <td>NaN</td>\n",
       "      <td>NaN</td>\n",
       "    </tr>\n",
       "    <tr>\n",
       "      <th>3</th>\n",
       "      <td>2016</td>\n",
       "      <td>2</td>\n",
       "      <td>1</td>\n",
       "      <td>60</td>\n",
       "      <td>2016</td>\n",
       "      <td>3</td>\n",
       "      <td>2</td>\n",
       "      <td>23</td>\n",
       "      <td>2</td>\n",
       "      <td>23</td>\n",
       "      <td>...</td>\n",
       "      <td>NaN</td>\n",
       "      <td>2</td>\n",
       "      <td>1</td>\n",
       "      <td>2</td>\n",
       "      <td>1.0</td>\n",
       "      <td>2</td>\n",
       "      <td>2</td>\n",
       "      <td>1</td>\n",
       "      <td>NaN</td>\n",
       "      <td>0.0</td>\n",
       "    </tr>\n",
       "    <tr>\n",
       "      <th>4</th>\n",
       "      <td>2016</td>\n",
       "      <td>3</td>\n",
       "      <td>1</td>\n",
       "      <td>60</td>\n",
       "      <td>2016</td>\n",
       "      <td>5</td>\n",
       "      <td>3</td>\n",
       "      <td>31</td>\n",
       "      <td>3</td>\n",
       "      <td>31</td>\n",
       "      <td>...</td>\n",
       "      <td>4.0</td>\n",
       "      <td>3</td>\n",
       "      <td>1</td>\n",
       "      <td>1</td>\n",
       "      <td>1.0</td>\n",
       "      <td>2</td>\n",
       "      <td>3</td>\n",
       "      <td>1</td>\n",
       "      <td>2.0</td>\n",
       "      <td>3.0</td>\n",
       "    </tr>\n",
       "  </tbody>\n",
       "</table>\n",
       "<p>5 rows × 127 columns</p>\n",
       "</div>"
      ],
      "text/plain": [
       "   FINT_Y_P  FINT_M_P  FMX  RECTYPE  SRVY_YR  HHX  FM_SIZE  FM_STRCP  FM_TYPE  \\\n",
       "0      2016         1    1       60     2016    1        2        22        2   \n",
       "1      2016         1    2       60     2016    1        1        12        1   \n",
       "2      2016         3    1       60     2016    2        1        11        1   \n",
       "3      2016         2    1       60     2016    3        2        23        2   \n",
       "4      2016         3    1       60     2016    5        3        31        3   \n",
       "\n",
       "   FM_STRP    ...     COVCONF  FHICOST  FMEDBILL  FMEDBPAY  FMEDBNOP  FSAF  \\\n",
       "0       22    ...         3.0        1         2         2       NaN     2   \n",
       "1       12    ...         2.0        1         2         2       NaN     2   \n",
       "2       11    ...         NaN        1         2         2       NaN     2   \n",
       "3       23    ...         NaN        2         1         2       1.0     2   \n",
       "4       31    ...         4.0        3         1         1       1.0     2   \n",
       "\n",
       "   FHICOVCT  FHICOVYN  FPRCOOH  FHIEBCCT  \n",
       "0         2         1      2.0       2.0  \n",
       "1         1         1      2.0       1.0  \n",
       "2         1         1      NaN       NaN  \n",
       "3         2         1      NaN       0.0  \n",
       "4         3         1      2.0       3.0  \n",
       "\n",
       "[5 rows x 127 columns]"
      ]
     },
     "execution_count": 4,
     "metadata": {},
     "output_type": "execute_result"
    }
   ],
   "source": [
    "data = pd.read_csv('desktop/HealthDataProject/familyxx.csv' , sep=',')\n",
    "\n",
    "data.shape\n",
    "data.head(5)"
   ]
  },
  {
   "cell_type": "code",
   "execution_count": 5,
   "metadata": {
    "collapsed": true
   },
   "outputs": [],
   "source": [
    "fam_df = pd.DataFrame(data)"
   ]
  },
  {
   "cell_type": "code",
   "execution_count": 6,
   "metadata": {},
   "outputs": [
    {
     "data": {
      "text/plain": [
       "Index(['FINT_Y_P', 'FINT_M_P', 'FMX', 'RECTYPE', 'SRVY_YR', 'HHX', 'FM_SIZE',\n",
       "       'FM_STRCP', 'FM_TYPE', 'FM_STRP',\n",
       "       ...\n",
       "       'COVCONF', 'FHICOST', 'FMEDBILL', 'FMEDBPAY', 'FMEDBNOP', 'FSAF',\n",
       "       'FHICOVCT', 'FHICOVYN', 'FPRCOOH', 'FHIEBCCT'],\n",
       "      dtype='object', length=127)"
      ]
     },
     "execution_count": 6,
     "metadata": {},
     "output_type": "execute_result"
    }
   ],
   "source": [
    "fam_df.columns"
   ]
  },
  {
   "cell_type": "markdown",
   "metadata": {},
   "source": [
    "Column labels correspond to questions in the survey and are decripted here: ftp://ftp.cdc.gov/pub/Health_Statistics/NCHS/Dataset_Documentation/NHIS/2016/familyxx_summary.pdf"
   ]
  },
  {
   "cell_type": "code",
   "execution_count": 7,
   "metadata": {
    "scrolled": false
   },
   "outputs": [
    {
     "data": {
      "text/plain": [
       "40220"
      ]
     },
     "execution_count": 7,
     "metadata": {},
     "output_type": "execute_result"
    }
   ],
   "source": [
    "fam = data['HHX'].unique().tolist()\n",
    "len(fam)"
   ]
  },
  {
   "cell_type": "markdown",
   "metadata": {},
   "source": [
    "40,220 families were included in this survey"
   ]
  },
  {
   "cell_type": "markdown",
   "metadata": {},
   "source": [
    "### Descriptive Statistics about several poll question answers"
   ]
  },
  {
   "cell_type": "code",
   "execution_count": 8,
   "metadata": {},
   "outputs": [
    {
     "data": {
      "text/plain": [
       "count    40875.000000\n",
       "mean         2.377223\n",
       "std          1.437707\n",
       "min          1.000000\n",
       "25%          1.000000\n",
       "50%          2.000000\n",
       "75%          3.000000\n",
       "max         18.000000\n",
       "Name: FM_SIZE, dtype: float64"
      ]
     },
     "execution_count": 8,
     "metadata": {},
     "output_type": "execute_result"
    }
   ],
   "source": [
    "fam_df['FM_SIZE'].describe()"
   ]
  },
  {
   "cell_type": "code",
   "execution_count": 9,
   "metadata": {},
   "outputs": [
    {
     "data": {
      "text/plain": [
       "count    40875.000000\n",
       "mean         0.562544\n",
       "std          1.034853\n",
       "min          0.000000\n",
       "25%          0.000000\n",
       "50%          0.000000\n",
       "75%          1.000000\n",
       "max         12.000000\n",
       "Name: FM_KIDS, dtype: float64"
      ]
     },
     "execution_count": 9,
     "metadata": {},
     "output_type": "execute_result"
    }
   ],
   "source": [
    "fam_df['FM_KIDS'].describe()"
   ]
  },
  {
   "cell_type": "code",
   "execution_count": 10,
   "metadata": {
    "collapsed": true
   },
   "outputs": [],
   "source": [
    "filter_1 = fam_df['FM_KIDS'] > 11"
   ]
  },
  {
   "cell_type": "code",
   "execution_count": 11,
   "metadata": {
    "scrolled": true
   },
   "outputs": [
    {
     "data": {
      "text/html": [
       "<div>\n",
       "<style>\n",
       "    .dataframe thead tr:only-child th {\n",
       "        text-align: right;\n",
       "    }\n",
       "\n",
       "    .dataframe thead th {\n",
       "        text-align: left;\n",
       "    }\n",
       "\n",
       "    .dataframe tbody tr th {\n",
       "        vertical-align: top;\n",
       "    }\n",
       "</style>\n",
       "<table border=\"1\" class=\"dataframe\">\n",
       "  <thead>\n",
       "    <tr style=\"text-align: right;\">\n",
       "      <th></th>\n",
       "      <th>FINT_Y_P</th>\n",
       "      <th>FINT_M_P</th>\n",
       "      <th>FMX</th>\n",
       "      <th>RECTYPE</th>\n",
       "      <th>SRVY_YR</th>\n",
       "      <th>HHX</th>\n",
       "      <th>FM_SIZE</th>\n",
       "      <th>FM_STRCP</th>\n",
       "      <th>FM_TYPE</th>\n",
       "      <th>FM_STRP</th>\n",
       "      <th>...</th>\n",
       "      <th>COVCONF</th>\n",
       "      <th>FHICOST</th>\n",
       "      <th>FMEDBILL</th>\n",
       "      <th>FMEDBPAY</th>\n",
       "      <th>FMEDBNOP</th>\n",
       "      <th>FSAF</th>\n",
       "      <th>FHICOVCT</th>\n",
       "      <th>FHICOVYN</th>\n",
       "      <th>FPRCOOH</th>\n",
       "      <th>FHIEBCCT</th>\n",
       "    </tr>\n",
       "  </thead>\n",
       "  <tbody>\n",
       "    <tr>\n",
       "      <th>23556</th>\n",
       "      <td>2016</td>\n",
       "      <td>9</td>\n",
       "      <td>1</td>\n",
       "      <td>60</td>\n",
       "      <td>2016</td>\n",
       "      <td>40758</td>\n",
       "      <td>15</td>\n",
       "      <td>45</td>\n",
       "      <td>4</td>\n",
       "      <td>45</td>\n",
       "      <td>...</td>\n",
       "      <td>NaN</td>\n",
       "      <td>1</td>\n",
       "      <td>2</td>\n",
       "      <td>1</td>\n",
       "      <td>NaN</td>\n",
       "      <td>2</td>\n",
       "      <td>0</td>\n",
       "      <td>2</td>\n",
       "      <td>NaN</td>\n",
       "      <td>NaN</td>\n",
       "    </tr>\n",
       "  </tbody>\n",
       "</table>\n",
       "<p>1 rows × 127 columns</p>\n",
       "</div>"
      ],
      "text/plain": [
       "       FINT_Y_P  FINT_M_P  FMX  RECTYPE  SRVY_YR    HHX  FM_SIZE  FM_STRCP  \\\n",
       "23556      2016         9    1       60     2016  40758       15        45   \n",
       "\n",
       "       FM_TYPE  FM_STRP    ...     COVCONF  FHICOST  FMEDBILL  FMEDBPAY  \\\n",
       "23556        4       45    ...         NaN        1         2         1   \n",
       "\n",
       "       FMEDBNOP  FSAF  FHICOVCT  FHICOVYN  FPRCOOH  FHIEBCCT  \n",
       "23556       NaN     2         0         2      NaN       NaN  \n",
       "\n",
       "[1 rows x 127 columns]"
      ]
     },
     "execution_count": 11,
     "metadata": {},
     "output_type": "execute_result"
    }
   ],
   "source": [
    "fam_df[filter_1]"
   ]
  },
  {
   "cell_type": "markdown",
   "metadata": {},
   "source": [
    "## Is there a correlation between # of working cellphones and # of kids?"
   ]
  },
  {
   "cell_type": "code",
   "execution_count": 12,
   "metadata": {
    "collapsed": true
   },
   "outputs": [],
   "source": [
    "phone_filter = fam_df['WRKCELN']<20\n",
    "\n",
    "fam_concat = fam_df[phone_filter]\n",
    "\n",
    "#fam_concat.head()"
   ]
  },
  {
   "cell_type": "code",
   "execution_count": 93,
   "metadata": {},
   "outputs": [
    {
     "data": {
      "image/png": "[encoded data removed]",
      "text/plain": [
       "<matplotlib.figure.Figure at 0x118573978>"
      ]
     },
     "metadata": {},
     "output_type": "display_data"
    }
   ],
   "source": [
    "%matplotlib inline\n",
    "import matplotlib.pyplot as plt\n",
    "\n",
    "fig,axis = plt.subplots()\n",
    "\n",
    "axis.set(title='Kids and Cellphones',\n",
    "         ylabel='Cellphones',\n",
    "         xlabel='Kids')\n",
    "\n",
    "X = fam_concat['FM_KIDS']\n",
    "Y = fam_concat['WRKCELN']\n",
    "\n",
    "axis.scatter(X, Y)\n",
    "plt.show()"
   ]
  },
  {
   "cell_type": "code",
   "execution_count": 70,
   "metadata": {},
   "outputs": [
    {
     "data": {
      "text/plain": [
       "array([[ 1.        ,  0.35695428],\n",
       "       [ 0.35695428,  1.        ]])"
      ]
     },
     "execution_count": 70,
     "metadata": {},
     "output_type": "execute_result"
    }
   ],
   "source": [
    "np.corrcoef(fam_concat['WRKCELN'],fam_concat['FM_KIDS'])"
   ]
  },
  {
   "cell_type": "markdown",
   "metadata": {},
   "source": [
    "## Recieving SS and elderly family member correlation?"
   ]
  },
  {
   "cell_type": "code",
   "execution_count": 90,
   "metadata": {},
   "outputs": [
    {
     "data": {
      "image/png": "[encoded data removed]",
      "text/plain": [
       "<matplotlib.figure.Figure at 0x118d81fd0>"
      ]
     },
     "metadata": {},
     "output_type": "display_data"
    }
   ],
   "source": [
    "fig,axis = plt.subplots()\n",
    "\n",
    "axis.set(title='# Family Members Recieving SS Vs. # of Elderly Family Members',\n",
    "         ylabel='Family Members Recieving SS',\n",
    "         xlabel='Elderly Family Members')\n",
    "\n",
    "Y = fam_df['FSSRRCT']\n",
    "X = fam_df['FM_ELDR']\n",
    "\n",
    "axis.scatter(X, Y)\n",
    "plt.show()"
   ]
  },
  {
   "cell_type": "code",
   "execution_count": 88,
   "metadata": {},
   "outputs": [
    {
     "data": {
      "text/plain": [
       "array([[ 1.        ,  0.80448367],\n",
       "       [ 0.80448367,  1.        ]])"
      ]
     },
     "execution_count": 88,
     "metadata": {},
     "output_type": "execute_result"
    }
   ],
   "source": [
    "np.corrcoef(fam_df['FSSRRCT'],fam_df['FM_ELDR'])"
   ]
  },
  {
   "cell_type": "markdown",
   "metadata": {
    "collapsed": true
   },
   "source": [
    "## Distribution of families' ratio of income to poverty threshold (outliers excluded)"
   ]
  },
  {
   "cell_type": "code",
   "execution_count": 95,
   "metadata": {},
   "outputs": [
    {
     "data": {
      "image/png": "[encoded data removed]",
      "text/plain": [
       "<matplotlib.figure.Figure at 0x117c59208>"
      ]
     },
     "metadata": {},
     "output_type": "display_data"
    }
   ],
   "source": [
    "plt.boxplot(fam_df['RAT_CAT4'],0,'','')\n",
    "plt.title(\"Family Income to Poverty Threshold Ratio\")\n",
    "plt.xlabel(\"Income/Poverty threshold Ratio\")\n",
    "plt.show()"
   ]
  },
  {
   "cell_type": "code",
   "execution_count": null,
   "metadata": {
    "collapsed": true
   },
   "outputs": [],
   "source": []
  },
  {
   "cell_type": "code",
   "execution_count": null,
   "metadata": {
    "collapsed": true
   },
   "outputs": [],
   "source": []
  }
 ],
 "metadata": {
  "kernelspec": {
   "display_name": "Python 3",
   "language": "python",
   "name": "python3"
  },
  "language_info": {
   "codemirror_mode": {
    "name": "ipython",
    "version": 3
   },
   "file_extension": ".py",
   "mimetype": "text/x-python",
   "name": "python",
   "nbconvert_exporter": "python",
   "pygments_lexer": "ipython3",
   "version": "3.6.1"
  }
 },
 "nbformat": 4,
 "nbformat_minor": 2
}
